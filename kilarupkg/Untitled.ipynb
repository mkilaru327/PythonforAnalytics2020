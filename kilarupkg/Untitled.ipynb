{
 "cells": [
  {
   "cell_type": "code",
   "execution_count": 4,
   "metadata": {},
   "outputs": [],
   "source": [
    "import os\n",
    "import re\n",
    "import glob"
   ]
  },
  {
   "cell_type": "code",
   "execution_count": 5,
   "metadata": {},
   "outputs": [],
   "source": [
    "class salad():\n",
    "    \n",
    "    def __init__(self):\n",
    "        self.path = ''\n",
    "        self.items = []\n",
    "        self.numbers = []\n",
    "        \n",
    "    def write(self, path, salad, n_items):\n",
    "        self.path = path\n",
    "        print(self.path)\n",
    "        \n",
    "        \n",
    "        assert len(salad) == len(n_items), \"The lists must be equal length.\"\n",
    "        os.makedirs(self.path, exist_ok=True)\n",
    "            \n",
    "        for k in range(len(salad)):\n",
    "            print(salad[k],n_items[k])\n",
    "            for j in range(n_items[k]):\n",
    "                file_name = salad[k] + '_' + str('{:0>2}'.format(j)) + '.salad'\n",
    "                f = open(os.path.join(self.path, file_name), \"w+\")\n",
    "                f.close()\n",
    "        return\n",
    "                \n",
    "    def read(self, path):\n",
    "        flist = glob.glob(os.path.join(path,'*.salad'))\n",
    "        a = []\n",
    "        for file in flist:\n",
    "            pattern = r\"(\\w+)(\\d\\d).salad\"\n",
    "            a.append(re.findall(pattern, file))\n",
    "            \n",
    "        return a "
   ]
  },
  {
   "cell_type": "code",
   "execution_count": 6,
   "metadata": {},
   "outputs": [
    {
     "name": "stdout",
     "output_type": "stream",
     "text": [
      "mysalad\n",
      "lettuce 2\n",
      "tomato 3\n"
     ]
    }
   ],
   "source": [
    "path = 'mysalad' \n",
    "salad_items = ['lettuce', 'tomato']\n",
    "salad_numbers = [2,3]\n",
    "\n",
    "mysalad = salad()\n",
    "\n",
    "mysalad.write(path, salad_items, salad_numbers)\n",
    "flist = mysalad.read(path)"
   ]
  },
  {
   "cell_type": "code",
   "execution_count": null,
   "metadata": {},
   "outputs": [],
   "source": []
  }
 ],
 "metadata": {
  "kernelspec": {
   "display_name": "Python 3",
   "language": "python",
   "name": "python3"
  },
  "language_info": {
   "codemirror_mode": {
    "name": "ipython",
    "version": 3
   },
   "file_extension": ".py",
   "mimetype": "text/x-python",
   "name": "python",
   "nbconvert_exporter": "python",
   "pygments_lexer": "ipython3",
   "version": "3.6.5"
  }
 },
 "nbformat": 4,
 "nbformat_minor": 2
}
