{
 "cells": [
  {
   "cell_type": "code",
   "execution_count": 31,
   "metadata": {},
   "outputs": [],
   "source": [
    "import kilarupkg as k"
   ]
  },
  {
   "cell_type": "code",
   "execution_count": 10,
   "metadata": {},
   "outputs": [
    {
     "name": "stdout",
     "output_type": "stream",
     "text": [
      "<class '__main__.salad'>\n"
     ]
    }
   ],
   "source": [
    "print(salad)"
   ]
  },
  {
   "cell_type": "code",
   "execution_count": 11,
   "metadata": {},
   "outputs": [
    {
     "data": {
      "text/plain": [
       "['__class__',\n",
       " '__delattr__',\n",
       " '__dict__',\n",
       " '__dir__',\n",
       " '__doc__',\n",
       " '__eq__',\n",
       " '__format__',\n",
       " '__ge__',\n",
       " '__getattribute__',\n",
       " '__gt__',\n",
       " '__hash__',\n",
       " '__init__',\n",
       " '__init_subclass__',\n",
       " '__le__',\n",
       " '__lt__',\n",
       " '__module__',\n",
       " '__ne__',\n",
       " '__new__',\n",
       " '__reduce__',\n",
       " '__reduce_ex__',\n",
       " '__repr__',\n",
       " '__setattr__',\n",
       " '__sizeof__',\n",
       " '__str__',\n",
       " '__subclasshook__',\n",
       " '__weakref__',\n",
       " 'read',\n",
       " 'write']"
      ]
     },
     "execution_count": 11,
     "metadata": {},
     "output_type": "execute_result"
    }
   ],
   "source": [
    "dir(salad)"
   ]
  },
  {
   "cell_type": "code",
   "execution_count": 33,
   "metadata": {},
   "outputs": [
    {
     "data": {
      "text/plain": [
       "'Hello!'"
      ]
     },
     "execution_count": 33,
     "metadata": {},
     "output_type": "execute_result"
    }
   ],
   "source": [
    "k.base.hello()"
   ]
  },
  {
   "cell_type": "code",
   "execution_count": 20,
   "metadata": {},
   "outputs": [],
   "source": [
    "import os\n",
    "import re\n",
    "import glob"
   ]
  },
  {
   "cell_type": "code",
   "execution_count": 27,
   "metadata": {},
   "outputs": [],
   "source": [
    "class salad():\n",
    "    \n",
    "    def __init__(self):\n",
    "        self.path = ''\n",
    "        self.items = []\n",
    "        self.numbers = []\n",
    "        \n",
    "    def write(self, path, salad, n_items):\n",
    "        self.path = path\n",
    "        print(self.path)\n",
    "        \n",
    "        \n",
    "        assert len(salad) == len(n_items), \"The lists must be equal length.\"\n",
    "        os.makedirs(self.path, exist_ok=True)\n",
    "            \n",
    "        for k in range(len(salad)):\n",
    "            print(salad[k],n_items[k])\n",
    "            for j in range(n_items[k]):\n",
    "                file_name = salad[k] + '_' + str('{:0>2}'.format(j)) + '.salad'\n",
    "                f = open(os.path.join(self.path, file_name), \"w+\")\n",
    "                f.close()\n",
    "        return\n",
    "                \n",
    "    def read(self, path):\n",
    "        flist = glob.glob(os.path.join(path,'*.salad'))\n",
    "        a = []\n",
    "        for file in flist:\n",
    "            pattern = r\"(\\w+)(\\d\\d).salad\"\n",
    "            a.append(re.findall(pattern, file))\n",
    "            \n",
    "        return a "
   ]
  },
  {
   "cell_type": "code",
   "execution_count": 28,
   "metadata": {},
   "outputs": [
    {
     "name": "stdout",
     "output_type": "stream",
     "text": [
      "mysalad\n",
      "lettuce 2\n",
      "tomato 3\n",
      "[[('lettuce_', '00')], [('lettuce_', '01')], [('tomato_', '00')], [('tomato_', '01')], [('tomato_', '02')]]\n"
     ]
    }
   ],
   "source": [
    "path = 'mysalad' \n",
    "salad_items = ['lettuce', 'tomato']\n",
    "salad_numbers = [2,3]\n",
    "\n",
    "mysalad = salad()\n",
    "\n",
    "mysalad.write(path, salad_items, salad_numbers)\n",
    "flist = mysalad.read(path)\n",
    "print(flist)"
   ]
  },
  {
   "cell_type": "code",
   "execution_count": 31,
   "metadata": {},
   "outputs": [],
   "source": [
    "f = open (\"final_salad.txt\", \"w+\")\n",
    "f.write('Megha')\n",
    "f.write('Kilaru')\n",
    "for k in flist:\n",
    "    f.write(str(k))\n",
    "#how long did it take to execute mysalad\n",
    "f.close()\n",
    "#add to readme "
   ]
  },
  {
   "cell_type": "code",
   "execution_count": 26,
   "metadata": {},
   "outputs": [
    {
     "data": {
      "text/plain": [
       "'C:\\\\Users\\\\Megha\\\\Documents\\\\GitHub\\\\PythonforAnalytics2020'"
      ]
     },
     "execution_count": 26,
     "metadata": {},
     "output_type": "execute_result"
    }
   ],
   "source": [
    "os.getcwd()"
   ]
  }
 ],
 "metadata": {
  "kernelspec": {
   "display_name": "Python 3",
   "language": "python",
   "name": "python3"
  },
  "language_info": {
   "codemirror_mode": {
    "name": "ipython",
    "version": 3
   },
   "file_extension": ".py",
   "mimetype": "text/x-python",
   "name": "python",
   "nbconvert_exporter": "python",
   "pygments_lexer": "ipython3",
   "version": "3.6.5"
  }
 },
 "nbformat": 4,
 "nbformat_minor": 2
}
